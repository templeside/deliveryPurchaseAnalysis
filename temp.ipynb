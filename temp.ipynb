{
 "cells": [
  {
   "cell_type": "code",
   "execution_count": 1,
   "id": "c9a629af",
   "metadata": {},
   "outputs": [],
   "source": [
    "import re"
   ]
  },
  {
   "cell_type": "code",
   "execution_count": 15,
   "id": "90febc28",
   "metadata": {},
   "outputs": [],
   "source": [
    "email = \"cjhon@wisc.edu\""
   ]
  },
  {
   "cell_type": "code",
   "execution_count": 17,
   "id": "9299e85f",
   "metadata": {},
   "outputs": [],
   "source": [
    "email = \"cjhonwisc.edu\""
   ]
  },
  {
   "cell_type": "code",
   "execution_count": 13,
   "id": "2d638209",
   "metadata": {},
   "outputs": [],
   "source": [
    "regex = '^[a-z0-9]+[\\._]?[a-z0-9]+[@]\\w+[.]\\w{2,3}$'  "
   ]
  },
  {
   "cell_type": "code",
   "execution_count": 18,
   "id": "994bdaaa",
   "metadata": {},
   "outputs": [],
   "source": [
    "re.match('^[a-z0-9]+[\\._]?[a-z0-9]+[@]\\w+[.]\\w{2,3}$', email)"
   ]
  },
  {
   "cell_type": "code",
   "execution_count": 14,
   "id": "15ef35ba",
   "metadata": {},
   "outputs": [],
   "source": [
    "re.match(regex, email)"
   ]
  },
  {
   "cell_type": "code",
   "execution_count": 8,
   "id": "3fad5820",
   "metadata": {
    "scrolled": true
   },
   "outputs": [
    {
     "name": "stdout",
     "output_type": "stream",
     "text": [
      "None\n"
     ]
    }
   ],
   "source": [
    "print(re.match(r\"(string1)@(string2).(2+characters)\", email))"
   ]
  },
  {
   "cell_type": "code",
   "execution_count": 28,
   "id": "02aa0420",
   "metadata": {},
   "outputs": [
    {
     "ename": "FileNotFoundError",
     "evalue": "[Errno 2] No such file or directory: 'emails.txt'",
     "output_type": "error",
     "traceback": [
      "\u001b[0;31m---------------------------------------------------------------------------\u001b[0m",
      "\u001b[0;31mFileNotFoundError\u001b[0m                         Traceback (most recent call last)",
      "Input \u001b[0;32mIn [28]\u001b[0m, in \u001b[0;36m<module>\u001b[0;34m\u001b[0m\n\u001b[0;32m----> 1\u001b[0m \u001b[38;5;28;01mwith\u001b[39;00m \u001b[38;5;28;43mopen\u001b[39;49m\u001b[43m(\u001b[49m\u001b[38;5;124;43m\"\u001b[39;49m\u001b[38;5;124;43memails.txt\u001b[39;49m\u001b[38;5;124;43m\"\u001b[39;49m\u001b[43m,\u001b[49m\u001b[43m \u001b[49m\u001b[38;5;124;43m\"\u001b[39;49m\u001b[38;5;124;43mr\u001b[39;49m\u001b[38;5;124;43m\"\u001b[39;49m\u001b[43m)\u001b[49m \u001b[38;5;28;01mas\u001b[39;00m f: \u001b[38;5;66;03m# open file in append mode\u001b[39;00m\n\u001b[1;32m      2\u001b[0m     num_subscribed \u001b[38;5;241m=\u001b[39m \u001b[38;5;28mlen\u001b[39m(f\u001b[38;5;241m.\u001b[39mreadlines())\n\u001b[1;32m      3\u001b[0m     \u001b[38;5;28mprint\u001b[39m(num_subscribed)\n",
      "\u001b[0;31mFileNotFoundError\u001b[0m: [Errno 2] No such file or directory: 'emails.txt'"
     ]
    }
   ],
   "source": [
    "with open(\"emails.txt\", \"r\") as f: # open file in append mode\n",
    "    num_subscribed = len(f.readlines())\n",
    "    print(num_subscribed)\n"
   ]
  },
  {
   "cell_type": "code",
   "execution_count": null,
   "id": "4f5c6394",
   "metadata": {},
   "outputs": [],
   "source": []
  }
 ],
 "metadata": {
  "kernelspec": {
   "display_name": "Python 3 (ipykernel)",
   "language": "python",
   "name": "python3"
  },
  "language_info": {
   "codemirror_mode": {
    "name": "ipython",
    "version": 3
   },
   "file_extension": ".py",
   "mimetype": "text/x-python",
   "name": "python",
   "nbconvert_exporter": "python",
   "pygments_lexer": "ipython3",
   "version": "3.8.10"
  }
 },
 "nbformat": 4,
 "nbformat_minor": 5
}
